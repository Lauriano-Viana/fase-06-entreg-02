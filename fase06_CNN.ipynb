{
  "nbformat": 4,
  "nbformat_minor": 0,
  "metadata": {
    "colab": {
      "provenance": [],
      "gpuType": "T4",
      "authorship_tag": "ABX9TyM7E6jA4+z5lZ1jQPmtbEGJ",
      "include_colab_link": true
    },
    "kernelspec": {
      "name": "python3",
      "display_name": "Python 3"
    },
    "language_info": {
      "name": "python"
    },
    "accelerator": "GPU"
  },
  "cells": [
    {
      "cell_type": "markdown",
      "metadata": {
        "id": "view-in-github",
        "colab_type": "text"
      },
      "source": [
        "<a href=\"https://colab.research.google.com/github/Lauriano-Viana/fase-06-entreg-02/blob/main/fase06_CNN.ipynb\" target=\"_parent\"><img src=\"https://colab.research.google.com/assets/colab-badge.svg\" alt=\"Open In Colab\"/></a>"
      ]
    },
    {
      "cell_type": "markdown",
      "source": [
        "# Treinamento modelo detecção imagens\n",
        "## modelo CNN"
      ],
      "metadata": {
        "id": "QqGfmzk1mmbI"
      }
    },
    {
      "cell_type": "code",
      "execution_count": null,
      "metadata": {
        "id": "p3kq_cscD1fw"
      },
      "outputs": [],
      "source": [
        "# Importando as bibliotecas necessárias\n",
        "import os\n",
        "import shutil\n",
        "import numpy as np\n",
        "import pandas as pd\n",
        "import matplotlib.pyplot as plt\n",
        "import tensorflow as tf\n",
        "from tensorflow.keras.preprocessing.image import ImageDataGenerator\n",
        "from tensorflow.keras.models import Sequential\n",
        "from tensorflow.keras.layers import Conv2D, MaxPooling2D, Dropout, Flatten, Dense\n",
        "from tensorflow.keras.optimizers import Adam\n",
        "from tensorflow.keras.callbacks import EarlyStopping, ModelCheckpoint\n",
        "from sklearn.metrics import classification_report, confusion_matrix\n",
        "import seaborn as sns\n",
        "from google.colab import drive"
      ]
    },
    {
      "cell_type": "markdown",
      "source": [
        "### Conectar googledrive para ter acesso ao dataset de imagens"
      ],
      "metadata": {
        "id": "jVIojlRDm9MZ"
      }
    },
    {
      "cell_type": "code",
      "source": [
        "# conectar googledrive\n",
        "drive.mount('/content/drive')"
      ],
      "metadata": {
        "colab": {
          "base_uri": "https://localhost:8080/"
        },
        "id": "c5bwbaNJEHm3",
        "outputId": "a70832ef-f1cf-42b9-d9d8-a4a7cf2e6bbb"
      },
      "execution_count": null,
      "outputs": [
        {
          "output_type": "stream",
          "name": "stdout",
          "text": [
            "Mounted at /content/drive\n"
          ]
        }
      ]
    },
    {
      "cell_type": "markdown",
      "source": [
        "### Definindo o caminho para o dataset no google drive"
      ],
      "metadata": {
        "id": "sYXzpxPmnJ-0"
      }
    },
    {
      "cell_type": "code",
      "source": [
        "base_dir = '/content/drive/MyDrive/datasets'  # Ajuste este caminho\n",
        "images_dir = os.path.join(base_dir, 'images')\n",
        "labels_dir = os.path.join(base_dir, 'labels')"
      ],
      "metadata": {
        "id": "T9uwRTjbE_iC"
      },
      "execution_count": null,
      "outputs": []
    },
    {
      "cell_type": "markdown",
      "source": [
        " ### Verificar se os diretórios e arquivos necessários estão presentes antes de executar operações mais complexas."
      ],
      "metadata": {
        "id": "AFKQmSsznx8t"
      }
    },
    {
      "cell_type": "code",
      "source": [
        "# Verificar a estrutura do diretório\n",
        "print(f\"Verificando diretórios...\")\n",
        "if os.path.exists(base_dir):\n",
        "    print(f\"Diretórios encontrados em {base_dir}: {os.listdir(base_dir)}\")\n",
        "    if os.path.exists(images_dir):\n",
        "        print(f\"Total de imagens: {len(os.listdir(images_dir))}\")\n",
        "    if os.path.exists(labels_dir):\n",
        "        print(f\"Total de arquivos de labels: {len(os.listdir(labels_dir))}\")\n",
        "else:\n",
        "    print(f\"Diretório base {base_dir} não encontrado. Verifique o caminho.\")"
      ],
      "metadata": {
        "colab": {
          "base_uri": "https://localhost:8080/"
        },
        "id": "gciRuWI7FMD8",
        "outputId": "8a2a81a0-301a-4582-8c84-512dfda318e1"
      },
      "execution_count": null,
      "outputs": [
        {
          "output_type": "stream",
          "name": "stdout",
          "text": [
            "Verificando diretórios...\n",
            "Diretórios encontrados em /content/drive/MyDrive/datasets: ['labels', 'images', 'train', 'validation']\n",
            "Total de imagens: 74\n",
            "Total de arquivos de labels: 74\n"
          ]
        }
      ]
    },
    {
      "cell_type": "markdown",
      "source": [
        " ### Criar caminhos de diretórios de treino e validação para um conjunto de dados (dataset) organizado."
      ],
      "metadata": {
        "id": "SAGrmcI4oWeP"
      }
    },
    {
      "cell_type": "code",
      "source": [
        "# Criar diretórios para o dataset organizado\n",
        "train_dir = os.path.join(base_dir, 'train')\n",
        "val_dir = os.path.join(base_dir, 'validation')"
      ],
      "metadata": {
        "id": "jVBSs69jFO9B"
      },
      "execution_count": null,
      "outputs": []
    },
    {
      "cell_type": "markdown",
      "source": [
        "### Definir os parametros para o modelo"
      ],
      "metadata": {
        "id": "Od5OacMdo6LK"
      }
    },
    {
      "cell_type": "code",
      "source": [
        "# Parâmetros para o modelo\n",
        "IMG_HEIGHT = 224\n",
        "IMG_WIDTH = 224\n",
        "BATCH_SIZE = 32\n",
        "EPOCHS = 45\n",
        "NUM_CLASSES = 2  # onça e cobra"
      ],
      "metadata": {
        "id": "ATrgZW6PFexZ"
      },
      "execution_count": null,
      "outputs": []
    },
    {
      "cell_type": "markdown",
      "source": [
        "### Função que recebe os labels no formato TXT e identifica a qual classe ele pertence"
      ],
      "metadata": {
        "id": "m03phwuDpp6X"
      }
    },
    {
      "cell_type": "code",
      "source": [
        "# Função para ler o label de um arquivo TXT\n",
        "def read_label_from_txt(txt_path):\n",
        "    \"\"\"\n",
        "    Lê o arquivo de label TXT e retorna a classe\n",
        "    Formato esperado no TXT: Primeiro número indica a classe (0=onça, 1=cobra)\n",
        "    \"\"\"\n",
        "    try:\n",
        "        with open(txt_path, 'r') as f:\n",
        "            # Lê a primeira linha e pega o primeiro valor como ID da classe\n",
        "            class_id = int(f.readline().strip().split()[0])\n",
        "            # Retorna o nome da classe baseado no ID\n",
        "            return 'onca' if class_id == 0 else 'cobra'\n",
        "    except Exception as e:\n",
        "        print(f\"Erro ao ler {txt_path}: {e}\")\n",
        "        return None"
      ],
      "metadata": {
        "id": "6t20uloAFnO0"
      },
      "execution_count": null,
      "outputs": []
    },
    {
      "cell_type": "markdown",
      "source": [
        "### Agora é organizar o dataset:\n",
        "\n",
        "Função que prepara um dataset estruturado para treinamento, organizando imagens de onças e cobras em pastas de treino/validação com base em arquivos de labels, seguindo a proporção 80/20 e mantendo o equilíbrio entre as classes."
      ],
      "metadata": {
        "id": "Vy6Yah_iqA1K"
      }
    },
    {
      "cell_type": "code",
      "source": [
        "# Função para organizar o dataset\n",
        "def setup_dataset():\n",
        "    \"\"\"\n",
        "    Organiza o dataset em estrutura adequada para treinamento e validação\n",
        "    baseado nos arquivos de labels TXT\n",
        "    \"\"\"\n",
        "    # Limpar diretórios organizados se já existirem\n",
        "    for dir_path in [train_dir, val_dir]:\n",
        "        if os.path.exists(dir_path):\n",
        "            shutil.rmtree(dir_path)\n",
        "\n",
        "    # Criar novos diretórios\n",
        "    for dir_path in [train_dir, val_dir]:\n",
        "        os.makedirs(os.path.join(dir_path, 'onca'), exist_ok=True)\n",
        "        os.makedirs(os.path.join(dir_path, 'cobra'), exist_ok=True)\n",
        "\n",
        "    print(\"Organizando dataset...\")\n",
        "\n",
        "    # Obter a lista de imagens\n",
        "    image_files = [f for f in os.listdir(images_dir) if f.endswith(('.jpg', '.jpeg', '.png'))]\n",
        "\n",
        "    # Embaralhar a lista para aleatorizar\n",
        "    np.random.seed(42)  # Para reprodutibilidade\n",
        "    np.random.shuffle(image_files)\n",
        "\n",
        "    # Separar em conjuntos de treino (80%) e validação (20%)\n",
        "    split_idx = int(len(image_files) * 0.8)\n",
        "    train_files = image_files[:split_idx]\n",
        "    val_files = image_files[split_idx:]\n",
        "\n",
        "    print(f\"Total de {len(train_files)} imagens para treino e {len(val_files)} para validação\")\n",
        "\n",
        "    # Distribuir as imagens para as pastas apropriadas\n",
        "    processed = 0\n",
        "    skipped = 0\n",
        "\n",
        "    # Processar arquivos de treino\n",
        "    for img_file in train_files:\n",
        "        # Arquivo base sem extensão\n",
        "        base_name = os.path.splitext(img_file)[0]\n",
        "        # Caminho para o arquivo de label correspondente\n",
        "        label_file = os.path.join(labels_dir, f\"{base_name}.txt\")\n",
        "\n",
        "        if os.path.exists(label_file):\n",
        "            # Ler a classe do arquivo de label\n",
        "            class_name = read_label_from_txt(label_file)\n",
        "            if class_name:\n",
        "                # Copiar a imagem para o diretório correto\n",
        "                src = os.path.join(images_dir, img_file)\n",
        "                dst = os.path.join(train_dir, class_name, img_file)\n",
        "                shutil.copy(src, dst)\n",
        "                processed += 1\n",
        "        else:\n",
        "            skipped += 1\n",
        "\n",
        "    # Processar arquivos de validação\n",
        "    for img_file in val_files:\n",
        "        base_name = os.path.splitext(img_file)[0]\n",
        "        label_file = os.path.join(labels_dir, f\"{base_name}.txt\")\n",
        "\n",
        "        if os.path.exists(label_file):\n",
        "            class_name = read_label_from_txt(label_file)\n",
        "            if class_name:\n",
        "                src = os.path.join(images_dir, img_file)\n",
        "                dst = os.path.join(val_dir, class_name, img_file)\n",
        "                shutil.copy(src, dst)\n",
        "                processed += 1\n",
        "        else:\n",
        "            skipped += 1\n",
        "\n",
        "    print(f\"Dataset organizado: {processed} imagens processadas, {skipped} imagens sem label.\")\n",
        "\n",
        "    # Verificar o número de imagens em cada classe\n",
        "    for subset, dir_path in [(\"Treino\", train_dir), (\"Validação\", val_dir)]:\n",
        "        onca_count = len(os.listdir(os.path.join(dir_path, 'onca')))\n",
        "        cobra_count = len(os.listdir(os.path.join(dir_path, 'cobra')))\n",
        "        print(f\"{subset}: {onca_count} onças, {cobra_count} cobras\")\n"
      ],
      "metadata": {
        "id": "Rt8iEmoOFvTL"
      },
      "execution_count": null,
      "outputs": []
    },
    {
      "cell_type": "markdown",
      "source": [
        "### Este código cria um gerador de dados de treinamento com aumento de dados.\n",
        "\n",
        "Onde sua função é preparar as imagens para o treinamento de um modelo de deep learning, aplicando transformações aleatórias para aumentar a diversidade do dataset e evitar overfitting."
      ],
      "metadata": {
        "id": "rq7kdc4Cr_Bt"
      }
    },
    {
      "cell_type": "code",
      "source": [
        "# Configurar o dataset\n",
        "setup_dataset()\n",
        "\n",
        "# Geradores de dados com aumento de dados para treinamento\n",
        "train_datagen = ImageDataGenerator(\n",
        "    rescale=1./255,\n",
        "    rotation_range=40,\n",
        "    width_shift_range=0.2,\n",
        "    height_shift_range=0.2,\n",
        "    shear_range=0.2,\n",
        "    zoom_range=0.2,\n",
        "    horizontal_flip=True,\n",
        "    fill_mode='nearest'\n",
        ")"
      ],
      "metadata": {
        "colab": {
          "base_uri": "https://localhost:8080/"
        },
        "id": "tejXsrRiF1Hd",
        "outputId": "a504904c-4cbe-40f1-9943-e7a1788cd560"
      },
      "execution_count": null,
      "outputs": [
        {
          "output_type": "stream",
          "name": "stdout",
          "text": [
            "Organizando dataset...\n",
            "Total de 59 imagens para treino e 15 para validação\n",
            "Dataset organizado: 74 imagens processadas, 0 imagens sem label.\n",
            "Treino: 30 onças, 29 cobras\n",
            "Validação: 7 onças, 8 cobras\n"
          ]
        }
      ]
    },
    {
      "cell_type": "markdown",
      "source": [
        " ### configura os geradores de dados para treinamento e validação de um modelo de deep learning, carregando imagens de diretórios e preparando-as para o processamento pela rede neural."
      ],
      "metadata": {
        "id": "imx9s3hBsx9z"
      }
    },
    {
      "cell_type": "code",
      "source": [
        "# Validação apenas com rescale\n",
        "validation_datagen = ImageDataGenerator(rescale=1./255)\n",
        "\n",
        "# Carregar os dados\n",
        "train_generator = train_datagen.flow_from_directory(\n",
        "    train_dir,\n",
        "    target_size=(IMG_HEIGHT, IMG_WIDTH),\n",
        "    batch_size=BATCH_SIZE,\n",
        "    class_mode='categorical'\n",
        ")\n",
        "\n",
        "validation_generator = validation_datagen.flow_from_directory(\n",
        "    val_dir,\n",
        "    target_size=(IMG_HEIGHT, IMG_WIDTH),\n",
        "    batch_size=BATCH_SIZE,\n",
        "    class_mode='categorical'\n",
        ")"
      ],
      "metadata": {
        "colab": {
          "base_uri": "https://localhost:8080/"
        },
        "id": "JMLClUrlF_DC",
        "outputId": "2531bb05-01d7-460f-b677-29a6e3c9eadb"
      },
      "execution_count": null,
      "outputs": [
        {
          "output_type": "stream",
          "name": "stdout",
          "text": [
            "Found 59 images belonging to 2 classes.\n",
            "Found 15 images belonging to 2 classes.\n"
          ]
        }
      ]
    },
    {
      "cell_type": "markdown",
      "source": [
        "### Mostrar as classes encontradas"
      ],
      "metadata": {
        "id": "Xwhx8rJLtzZV"
      }
    },
    {
      "cell_type": "code",
      "source": [
        "# Verificar as classes\n",
        "class_indices = train_generator.class_indices\n",
        "print(f\"Classes encontradas: {class_indices}\")"
      ],
      "metadata": {
        "colab": {
          "base_uri": "https://localhost:8080/"
        },
        "id": "zWXk_MmjGKqX",
        "outputId": "6e3b4239-cda8-4cdb-a0d2-e2e3bd183bc6"
      },
      "execution_count": null,
      "outputs": [
        {
          "output_type": "stream",
          "name": "stdout",
          "text": [
            "Classes encontradas: {'cobra': 0, 'onca': 1}\n"
          ]
        }
      ]
    },
    {
      "cell_type": "markdown",
      "source": [
        "### Definir uma rede neural convolucional (CNN) usando o Keras/TensorFlow, projetada para classificação de imagens (no caso, entre \"onça\" e \"cobra\")"
      ],
      "metadata": {
        "id": "n09o6qonuPrA"
      }
    },
    {
      "cell_type": "code",
      "source": [
        "# Construir o modelo CNN\n",
        "model = Sequential([\n",
        "    # Primeira camada convolucional\n",
        "    Conv2D(32, (3, 3), activation='relu', input_shape=(IMG_HEIGHT, IMG_WIDTH, 3)),\n",
        "    MaxPooling2D(2, 2),\n",
        "\n",
        "    # Segunda camada convolucional\n",
        "    Conv2D(64, (3, 3), activation='relu'),\n",
        "    MaxPooling2D(2, 2),\n",
        "\n",
        "    # Terceira camada convolucional\n",
        "    Conv2D(128, (3, 3), activation='relu'),\n",
        "    MaxPooling2D(2, 2),\n",
        "\n",
        "    # Quarta camada convolucional\n",
        "    Conv2D(128, (3, 3), activation='relu'),\n",
        "    MaxPooling2D(2, 2),\n",
        "\n",
        "    # Flatten e camadas densas\n",
        "    Flatten(),\n",
        "    Dense(512, activation='relu'),\n",
        "    Dropout(0.5),  # Para reduzir overfitting\n",
        "    Dense(NUM_CLASSES, activation='softmax')  # Saída: onça ou cobra\n",
        "])"
      ],
      "metadata": {
        "colab": {
          "base_uri": "https://localhost:8080/"
        },
        "id": "bNbNDUNmGSXI",
        "outputId": "f3278de0-310e-49a8-9208-5332bb4bfed0"
      },
      "execution_count": null,
      "outputs": [
        {
          "output_type": "stream",
          "name": "stderr",
          "text": [
            "/usr/local/lib/python3.11/dist-packages/keras/src/layers/convolutional/base_conv.py:107: UserWarning: Do not pass an `input_shape`/`input_dim` argument to a layer. When using Sequential models, prefer using an `Input(shape)` object as the first layer in the model instead.\n",
            "  super().__init__(activity_regularizer=activity_regularizer, **kwargs)\n"
          ]
        }
      ]
    },
    {
      "cell_type": "markdown",
      "source": [
        "### Compilar o modelo de rede neural construído anteriormente, configurando três elementos essenciais para o treinamento:\n",
        "\n",
        "1. Otimizador (optimizer)\n",
        "2. Função de Perda (loss)\n",
        "3. Métricas de Avaliação (metrics)"
      ],
      "metadata": {
        "id": "RbyKK4ZsuouI"
      }
    },
    {
      "cell_type": "code",
      "source": [
        "# Compilar o modelo\n",
        "model.compile(\n",
        "    optimizer=Adam(learning_rate=0.0001),\n",
        "    loss='categorical_crossentropy',\n",
        "    metrics=['accuracy']\n",
        ")"
      ],
      "metadata": {
        "id": "4zihxnx7GVLU"
      },
      "execution_count": null,
      "outputs": []
    },
    {
      "cell_type": "markdown",
      "source": [
        "### Resumo do modelo"
      ],
      "metadata": {
        "id": "av_o654fvFQz"
      }
    },
    {
      "cell_type": "code",
      "source": [
        "# Resumo do modelo\n",
        "model.summary()"
      ],
      "metadata": {
        "id": "dwa7pYfFGcrk",
        "outputId": "bc1352e0-f3fa-4f51-9d42-21267782afd8",
        "colab": {
          "base_uri": "https://localhost:8080/",
          "height": 544
        }
      },
      "execution_count": null,
      "outputs": [
        {
          "output_type": "display_data",
          "data": {
            "text/plain": [
              "\u001b[1mModel: \"sequential\"\u001b[0m\n"
            ],
            "text/html": [
              "<pre style=\"white-space:pre;overflow-x:auto;line-height:normal;font-family:Menlo,'DejaVu Sans Mono',consolas,'Courier New',monospace\"><span style=\"font-weight: bold\">Model: \"sequential\"</span>\n",
              "</pre>\n"
            ]
          },
          "metadata": {}
        },
        {
          "output_type": "display_data",
          "data": {
            "text/plain": [
              "┏━━━━━━━━━━━━━━━━━━━━━━━━━━━━━━━━━┳━━━━━━━━━━━━━━━━━━━━━━━━┳━━━━━━━━━━━━━━━┓\n",
              "┃\u001b[1m \u001b[0m\u001b[1mLayer (type)                   \u001b[0m\u001b[1m \u001b[0m┃\u001b[1m \u001b[0m\u001b[1mOutput Shape          \u001b[0m\u001b[1m \u001b[0m┃\u001b[1m \u001b[0m\u001b[1m      Param #\u001b[0m\u001b[1m \u001b[0m┃\n",
              "┡━━━━━━━━━━━━━━━━━━━━━━━━━━━━━━━━━╇━━━━━━━━━━━━━━━━━━━━━━━━╇━━━━━━━━━━━━━━━┩\n",
              "│ conv2d (\u001b[38;5;33mConv2D\u001b[0m)                 │ (\u001b[38;5;45mNone\u001b[0m, \u001b[38;5;34m222\u001b[0m, \u001b[38;5;34m222\u001b[0m, \u001b[38;5;34m32\u001b[0m)   │           \u001b[38;5;34m896\u001b[0m │\n",
              "├─────────────────────────────────┼────────────────────────┼───────────────┤\n",
              "│ max_pooling2d (\u001b[38;5;33mMaxPooling2D\u001b[0m)    │ (\u001b[38;5;45mNone\u001b[0m, \u001b[38;5;34m111\u001b[0m, \u001b[38;5;34m111\u001b[0m, \u001b[38;5;34m32\u001b[0m)   │             \u001b[38;5;34m0\u001b[0m │\n",
              "├─────────────────────────────────┼────────────────────────┼───────────────┤\n",
              "│ conv2d_1 (\u001b[38;5;33mConv2D\u001b[0m)               │ (\u001b[38;5;45mNone\u001b[0m, \u001b[38;5;34m109\u001b[0m, \u001b[38;5;34m109\u001b[0m, \u001b[38;5;34m64\u001b[0m)   │        \u001b[38;5;34m18,496\u001b[0m │\n",
              "├─────────────────────────────────┼────────────────────────┼───────────────┤\n",
              "│ max_pooling2d_1 (\u001b[38;5;33mMaxPooling2D\u001b[0m)  │ (\u001b[38;5;45mNone\u001b[0m, \u001b[38;5;34m54\u001b[0m, \u001b[38;5;34m54\u001b[0m, \u001b[38;5;34m64\u001b[0m)     │             \u001b[38;5;34m0\u001b[0m │\n",
              "├─────────────────────────────────┼────────────────────────┼───────────────┤\n",
              "│ conv2d_2 (\u001b[38;5;33mConv2D\u001b[0m)               │ (\u001b[38;5;45mNone\u001b[0m, \u001b[38;5;34m52\u001b[0m, \u001b[38;5;34m52\u001b[0m, \u001b[38;5;34m128\u001b[0m)    │        \u001b[38;5;34m73,856\u001b[0m │\n",
              "├─────────────────────────────────┼────────────────────────┼───────────────┤\n",
              "│ max_pooling2d_2 (\u001b[38;5;33mMaxPooling2D\u001b[0m)  │ (\u001b[38;5;45mNone\u001b[0m, \u001b[38;5;34m26\u001b[0m, \u001b[38;5;34m26\u001b[0m, \u001b[38;5;34m128\u001b[0m)    │             \u001b[38;5;34m0\u001b[0m │\n",
              "├─────────────────────────────────┼────────────────────────┼───────────────┤\n",
              "│ conv2d_3 (\u001b[38;5;33mConv2D\u001b[0m)               │ (\u001b[38;5;45mNone\u001b[0m, \u001b[38;5;34m24\u001b[0m, \u001b[38;5;34m24\u001b[0m, \u001b[38;5;34m128\u001b[0m)    │       \u001b[38;5;34m147,584\u001b[0m │\n",
              "├─────────────────────────────────┼────────────────────────┼───────────────┤\n",
              "│ max_pooling2d_3 (\u001b[38;5;33mMaxPooling2D\u001b[0m)  │ (\u001b[38;5;45mNone\u001b[0m, \u001b[38;5;34m12\u001b[0m, \u001b[38;5;34m12\u001b[0m, \u001b[38;5;34m128\u001b[0m)    │             \u001b[38;5;34m0\u001b[0m │\n",
              "├─────────────────────────────────┼────────────────────────┼───────────────┤\n",
              "│ flatten (\u001b[38;5;33mFlatten\u001b[0m)               │ (\u001b[38;5;45mNone\u001b[0m, \u001b[38;5;34m18432\u001b[0m)          │             \u001b[38;5;34m0\u001b[0m │\n",
              "├─────────────────────────────────┼────────────────────────┼───────────────┤\n",
              "│ dense (\u001b[38;5;33mDense\u001b[0m)                   │ (\u001b[38;5;45mNone\u001b[0m, \u001b[38;5;34m512\u001b[0m)            │     \u001b[38;5;34m9,437,696\u001b[0m │\n",
              "├─────────────────────────────────┼────────────────────────┼───────────────┤\n",
              "│ dropout (\u001b[38;5;33mDropout\u001b[0m)               │ (\u001b[38;5;45mNone\u001b[0m, \u001b[38;5;34m512\u001b[0m)            │             \u001b[38;5;34m0\u001b[0m │\n",
              "├─────────────────────────────────┼────────────────────────┼───────────────┤\n",
              "│ dense_1 (\u001b[38;5;33mDense\u001b[0m)                 │ (\u001b[38;5;45mNone\u001b[0m, \u001b[38;5;34m2\u001b[0m)              │         \u001b[38;5;34m1,026\u001b[0m │\n",
              "└─────────────────────────────────┴────────────────────────┴───────────────┘\n"
            ],
            "text/html": [
              "<pre style=\"white-space:pre;overflow-x:auto;line-height:normal;font-family:Menlo,'DejaVu Sans Mono',consolas,'Courier New',monospace\">┏━━━━━━━━━━━━━━━━━━━━━━━━━━━━━━━━━┳━━━━━━━━━━━━━━━━━━━━━━━━┳━━━━━━━━━━━━━━━┓\n",
              "┃<span style=\"font-weight: bold\"> Layer (type)                    </span>┃<span style=\"font-weight: bold\"> Output Shape           </span>┃<span style=\"font-weight: bold\">       Param # </span>┃\n",
              "┡━━━━━━━━━━━━━━━━━━━━━━━━━━━━━━━━━╇━━━━━━━━━━━━━━━━━━━━━━━━╇━━━━━━━━━━━━━━━┩\n",
              "│ conv2d (<span style=\"color: #0087ff; text-decoration-color: #0087ff\">Conv2D</span>)                 │ (<span style=\"color: #00d7ff; text-decoration-color: #00d7ff\">None</span>, <span style=\"color: #00af00; text-decoration-color: #00af00\">222</span>, <span style=\"color: #00af00; text-decoration-color: #00af00\">222</span>, <span style=\"color: #00af00; text-decoration-color: #00af00\">32</span>)   │           <span style=\"color: #00af00; text-decoration-color: #00af00\">896</span> │\n",
              "├─────────────────────────────────┼────────────────────────┼───────────────┤\n",
              "│ max_pooling2d (<span style=\"color: #0087ff; text-decoration-color: #0087ff\">MaxPooling2D</span>)    │ (<span style=\"color: #00d7ff; text-decoration-color: #00d7ff\">None</span>, <span style=\"color: #00af00; text-decoration-color: #00af00\">111</span>, <span style=\"color: #00af00; text-decoration-color: #00af00\">111</span>, <span style=\"color: #00af00; text-decoration-color: #00af00\">32</span>)   │             <span style=\"color: #00af00; text-decoration-color: #00af00\">0</span> │\n",
              "├─────────────────────────────────┼────────────────────────┼───────────────┤\n",
              "│ conv2d_1 (<span style=\"color: #0087ff; text-decoration-color: #0087ff\">Conv2D</span>)               │ (<span style=\"color: #00d7ff; text-decoration-color: #00d7ff\">None</span>, <span style=\"color: #00af00; text-decoration-color: #00af00\">109</span>, <span style=\"color: #00af00; text-decoration-color: #00af00\">109</span>, <span style=\"color: #00af00; text-decoration-color: #00af00\">64</span>)   │        <span style=\"color: #00af00; text-decoration-color: #00af00\">18,496</span> │\n",
              "├─────────────────────────────────┼────────────────────────┼───────────────┤\n",
              "│ max_pooling2d_1 (<span style=\"color: #0087ff; text-decoration-color: #0087ff\">MaxPooling2D</span>)  │ (<span style=\"color: #00d7ff; text-decoration-color: #00d7ff\">None</span>, <span style=\"color: #00af00; text-decoration-color: #00af00\">54</span>, <span style=\"color: #00af00; text-decoration-color: #00af00\">54</span>, <span style=\"color: #00af00; text-decoration-color: #00af00\">64</span>)     │             <span style=\"color: #00af00; text-decoration-color: #00af00\">0</span> │\n",
              "├─────────────────────────────────┼────────────────────────┼───────────────┤\n",
              "│ conv2d_2 (<span style=\"color: #0087ff; text-decoration-color: #0087ff\">Conv2D</span>)               │ (<span style=\"color: #00d7ff; text-decoration-color: #00d7ff\">None</span>, <span style=\"color: #00af00; text-decoration-color: #00af00\">52</span>, <span style=\"color: #00af00; text-decoration-color: #00af00\">52</span>, <span style=\"color: #00af00; text-decoration-color: #00af00\">128</span>)    │        <span style=\"color: #00af00; text-decoration-color: #00af00\">73,856</span> │\n",
              "├─────────────────────────────────┼────────────────────────┼───────────────┤\n",
              "│ max_pooling2d_2 (<span style=\"color: #0087ff; text-decoration-color: #0087ff\">MaxPooling2D</span>)  │ (<span style=\"color: #00d7ff; text-decoration-color: #00d7ff\">None</span>, <span style=\"color: #00af00; text-decoration-color: #00af00\">26</span>, <span style=\"color: #00af00; text-decoration-color: #00af00\">26</span>, <span style=\"color: #00af00; text-decoration-color: #00af00\">128</span>)    │             <span style=\"color: #00af00; text-decoration-color: #00af00\">0</span> │\n",
              "├─────────────────────────────────┼────────────────────────┼───────────────┤\n",
              "│ conv2d_3 (<span style=\"color: #0087ff; text-decoration-color: #0087ff\">Conv2D</span>)               │ (<span style=\"color: #00d7ff; text-decoration-color: #00d7ff\">None</span>, <span style=\"color: #00af00; text-decoration-color: #00af00\">24</span>, <span style=\"color: #00af00; text-decoration-color: #00af00\">24</span>, <span style=\"color: #00af00; text-decoration-color: #00af00\">128</span>)    │       <span style=\"color: #00af00; text-decoration-color: #00af00\">147,584</span> │\n",
              "├─────────────────────────────────┼────────────────────────┼───────────────┤\n",
              "│ max_pooling2d_3 (<span style=\"color: #0087ff; text-decoration-color: #0087ff\">MaxPooling2D</span>)  │ (<span style=\"color: #00d7ff; text-decoration-color: #00d7ff\">None</span>, <span style=\"color: #00af00; text-decoration-color: #00af00\">12</span>, <span style=\"color: #00af00; text-decoration-color: #00af00\">12</span>, <span style=\"color: #00af00; text-decoration-color: #00af00\">128</span>)    │             <span style=\"color: #00af00; text-decoration-color: #00af00\">0</span> │\n",
              "├─────────────────────────────────┼────────────────────────┼───────────────┤\n",
              "│ flatten (<span style=\"color: #0087ff; text-decoration-color: #0087ff\">Flatten</span>)               │ (<span style=\"color: #00d7ff; text-decoration-color: #00d7ff\">None</span>, <span style=\"color: #00af00; text-decoration-color: #00af00\">18432</span>)          │             <span style=\"color: #00af00; text-decoration-color: #00af00\">0</span> │\n",
              "├─────────────────────────────────┼────────────────────────┼───────────────┤\n",
              "│ dense (<span style=\"color: #0087ff; text-decoration-color: #0087ff\">Dense</span>)                   │ (<span style=\"color: #00d7ff; text-decoration-color: #00d7ff\">None</span>, <span style=\"color: #00af00; text-decoration-color: #00af00\">512</span>)            │     <span style=\"color: #00af00; text-decoration-color: #00af00\">9,437,696</span> │\n",
              "├─────────────────────────────────┼────────────────────────┼───────────────┤\n",
              "│ dropout (<span style=\"color: #0087ff; text-decoration-color: #0087ff\">Dropout</span>)               │ (<span style=\"color: #00d7ff; text-decoration-color: #00d7ff\">None</span>, <span style=\"color: #00af00; text-decoration-color: #00af00\">512</span>)            │             <span style=\"color: #00af00; text-decoration-color: #00af00\">0</span> │\n",
              "├─────────────────────────────────┼────────────────────────┼───────────────┤\n",
              "│ dense_1 (<span style=\"color: #0087ff; text-decoration-color: #0087ff\">Dense</span>)                 │ (<span style=\"color: #00d7ff; text-decoration-color: #00d7ff\">None</span>, <span style=\"color: #00af00; text-decoration-color: #00af00\">2</span>)              │         <span style=\"color: #00af00; text-decoration-color: #00af00\">1,026</span> │\n",
              "└─────────────────────────────────┴────────────────────────┴───────────────┘\n",
              "</pre>\n"
            ]
          },
          "metadata": {}
        },
        {
          "output_type": "display_data",
          "data": {
            "text/plain": [
              "\u001b[1m Total params: \u001b[0m\u001b[38;5;34m9,679,554\u001b[0m (36.92 MB)\n"
            ],
            "text/html": [
              "<pre style=\"white-space:pre;overflow-x:auto;line-height:normal;font-family:Menlo,'DejaVu Sans Mono',consolas,'Courier New',monospace\"><span style=\"font-weight: bold\"> Total params: </span><span style=\"color: #00af00; text-decoration-color: #00af00\">9,679,554</span> (36.92 MB)\n",
              "</pre>\n"
            ]
          },
          "metadata": {}
        },
        {
          "output_type": "display_data",
          "data": {
            "text/plain": [
              "\u001b[1m Trainable params: \u001b[0m\u001b[38;5;34m9,679,554\u001b[0m (36.92 MB)\n"
            ],
            "text/html": [
              "<pre style=\"white-space:pre;overflow-x:auto;line-height:normal;font-family:Menlo,'DejaVu Sans Mono',consolas,'Courier New',monospace\"><span style=\"font-weight: bold\"> Trainable params: </span><span style=\"color: #00af00; text-decoration-color: #00af00\">9,679,554</span> (36.92 MB)\n",
              "</pre>\n"
            ]
          },
          "metadata": {}
        },
        {
          "output_type": "display_data",
          "data": {
            "text/plain": [
              "\u001b[1m Non-trainable params: \u001b[0m\u001b[38;5;34m0\u001b[0m (0.00 B)\n"
            ],
            "text/html": [
              "<pre style=\"white-space:pre;overflow-x:auto;line-height:normal;font-family:Menlo,'DejaVu Sans Mono',consolas,'Courier New',monospace\"><span style=\"font-weight: bold\"> Non-trainable params: </span><span style=\"color: #00af00; text-decoration-color: #00af00\">0</span> (0.00 B)\n",
              "</pre>\n"
            ]
          },
          "metadata": {}
        }
      ]
    },
    {
      "cell_type": "markdown",
      "source": [
        "### Definir callbacks (funções executadas durante o treinamento) para melhorar o processo e salvar o melhor modelo. Essas ferramentas ajudam a evitar overfitting, interromper o treino quando necessário e salvar automaticamente os melhores resultados."
      ],
      "metadata": {
        "id": "-qCoubZZwZKZ"
      }
    },
    {
      "cell_type": "code",
      "source": [
        "# Callbacks para melhorar o treinamento\n",
        "checkpoint_path = os.path.join(base_dir, 'onca_cobra_model.h5')\n",
        "callbacks = [\n",
        "    EarlyStopping(\n",
        "        monitor='val_loss',\n",
        "        patience=3,\n",
        "        restore_best_weights=True\n",
        "    ),\n",
        "    ModelCheckpoint(\n",
        "        filepath=checkpoint_path,\n",
        "        monitor='val_accuracy',\n",
        "        save_best_only=True,\n",
        "        verbose=1\n",
        "    )\n",
        "]"
      ],
      "metadata": {
        "id": "vprYe4G0wE-y"
      },
      "execution_count": null,
      "outputs": []
    },
    {
      "cell_type": "markdown",
      "source": [
        "### Executar o treinamento da CNN, avalia seu desempenho, salva os resultados e prepara o modelo para previsões em novas imagens.\n",
        "\n",
        "Fluxo Principal\n",
        "\n",
        "    Treina o modelo com callbacks para evitar overfitting.\n",
        "\n",
        "    Salva o melhor modelo e histórico de treino.\n",
        "\n",
        "    Analisa desempenho com métricas e visualizações.\n",
        "\n",
        "    Prepara o modelo para uso em novas imagens.\n"
      ],
      "metadata": {
        "id": "r5qZWJ5ExOZA"
      }
    },
    {
      "cell_type": "code",
      "source": [
        "# Verificar se há imagens suficientes antes de treinar\n",
        "if train_generator.samples > 0 and validation_generator.samples > 0:\n",
        "    # Ajustar steps_per_epoch e validation_steps\n",
        "    steps_per_epoch = max(1, train_generator.samples // BATCH_SIZE)\n",
        "    validation_steps = max(1, validation_generator.samples // BATCH_SIZE)\n",
        "\n",
        "    # Treinar o modelo\n",
        "    history = model.fit(\n",
        "        train_generator,\n",
        "        steps_per_epoch=steps_per_epoch,\n",
        "        epochs=EPOCHS,\n",
        "        validation_data=validation_generator,\n",
        "        validation_steps=validation_steps,\n",
        "        callbacks=callbacks\n",
        "    )\n",
        "\n",
        "    # Salvar o modelo final\n",
        "    model.save(os.path.join(base_dir, 'onca_cobra_final_model.h5'))\n",
        "\n",
        "    # Plotar o histórico de treinamento\n",
        "    def plot_training_history(history):\n",
        "        acc = history.history['accuracy']\n",
        "        val_acc = history.history['val_accuracy']\n",
        "        loss = history.history['loss']\n",
        "        val_loss = history.history['val_loss']\n",
        "\n",
        "        epochs_range = range(len(acc))\n",
        "\n",
        "        plt.figure(figsize=(12, 5))\n",
        "        plt.subplot(1, 2, 1)\n",
        "        plt.plot(epochs_range, acc, label='Acurácia de Treino')\n",
        "        plt.plot(epochs_range, val_acc, label='Acurácia de Validação')\n",
        "        plt.legend(loc='lower right')\n",
        "        plt.title('Acurácia de Treino e Validação')\n",
        "\n",
        "        plt.subplot(1, 2, 2)\n",
        "        plt.plot(epochs_range, loss, label='Perda de Treino')\n",
        "        plt.plot(epochs_range, val_loss, label='Perda de Validação')\n",
        "        plt.legend(loc='upper right')\n",
        "        plt.title('Perda de Treino e Validação')\n",
        "\n",
        "        plt.savefig(os.path.join(base_dir, 'training_history.png'))\n",
        "        plt.show()\n",
        "\n",
        "    plot_training_history(history)\n",
        "\n",
        "    # Avaliar o modelo no conjunto de validação\n",
        "    print(\"Avaliando o modelo...\")\n",
        "    eval_result = model.evaluate(validation_generator)\n",
        "    print(f\"Perda: {eval_result[0]:.4f}\")\n",
        "    print(f\"Acurácia: {eval_result[1]:.4f}\")\n",
        "\n",
        "    # Fazer previsões no conjunto de validação para análise detalhada\n",
        "    validation_generator.reset()\n",
        "    y_pred = []\n",
        "    y_true = []\n",
        "\n",
        "    for i in range(validation_steps):\n",
        "        x, y = next(validation_generator)\n",
        "        predictions = model.predict(x)\n",
        "        y_pred.extend(np.argmax(predictions, axis=1))\n",
        "        y_true.extend(np.argmax(y, axis=1))\n",
        "\n",
        "    # Truncar para o número exato de amostras de validação\n",
        "    y_pred = y_pred[:validation_generator.samples]\n",
        "    y_true = y_true[:validation_generator.samples]\n",
        "\n",
        "    # Calcular a matriz de confusão\n",
        "    cm = confusion_matrix(y_true, y_pred)\n",
        "    class_names = list(class_indices.keys())\n",
        "\n",
        "    plt.figure(figsize=(8, 6))\n",
        "    sns.heatmap(cm, annot=True, fmt='d', cmap='Blues', xticklabels=class_names, yticklabels=class_names)\n",
        "    plt.xlabel('Previsto')\n",
        "    plt.ylabel('Real')\n",
        "    plt.title('Matriz de Confusão')\n",
        "    plt.savefig(os.path.join(base_dir, 'confusion_matrix.png'))\n",
        "    plt.show()\n",
        "\n",
        "    # Imprimir relatório de classificação\n",
        "    print(\"Relatório de Classificação:\")\n",
        "    print(classification_report(y_true, y_pred, target_names=class_names))\n",
        "\n",
        "    # Função para fazer previsões em novas imagens\n",
        "    def predict_image(img_path):\n",
        "        img = tf.keras.preprocessing.image.load_img(\n",
        "            img_path, target_size=(IMG_HEIGHT, IMG_WIDTH)\n",
        "        )\n",
        "        img_array = tf.keras.preprocessing.image.img_to_array(img)\n",
        "        img_array = tf.expand_dims(img_array, 0) / 255.0\n",
        "\n",
        "        prediction = model.predict(img_array)\n",
        "        predicted_class = class_names[np.argmax(prediction)]\n",
        "        confidence = np.max(prediction)\n",
        "\n",
        "        plt.figure(figsize=(6, 6))\n",
        "        plt.imshow(img)\n",
        "        plt.title(f'Previsão: {predicted_class} (Confiança: {confidence:.2f})')\n",
        "        plt.axis('off')\n",
        "        plt.show()\n",
        "\n",
        "        print(f\"Classe: {predicted_class}\")\n",
        "        print(f\"Confiança: {confidence:.4f}\")\n",
        "\n",
        "        return predicted_class, confidence\n",
        "\n",
        "    print(\"\\nComo usar o modelo para fazer previsões em novas imagens:\")\n",
        "    print(\"predict_image('/caminho/para/sua/imagem.jpg')\")\n",
        "\n",
        "    print(\"Treinamento e avaliação concluídos!\")\n",
        "else:\n",
        "    print(\"ERRO: Não há imagens suficientes para treinar o modelo.\")\n",
        "    print(f\"Imagens de treino: {train_generator.samples}\")\n",
        "    print(f\"Imagens de validação: {validation_generator.samples}\")\n",
        "    print(\"Verifique se os arquivos de labels TXT correspondem às imagens corretamente.\")\n"
      ],
      "metadata": {
        "colab": {
          "base_uri": "https://localhost:8080/",
          "height": 1000
        },
        "id": "gvRjhHeWwpxQ",
        "outputId": "3627b74c-a7bd-4c60-fb97-e07b03101f58"
      },
      "execution_count": null,
      "outputs": [
        {
          "output_type": "stream",
          "name": "stdout",
          "text": [
            "Epoch 1/45\n",
            "\u001b[1m1/1\u001b[0m \u001b[32m━━━━━━━━━━━━━━━━━━━━\u001b[0m\u001b[37m\u001b[0m \u001b[1m0s\u001b[0m 462ms/step - accuracy: 0.6296 - loss: 0.6947\n",
            "Epoch 1: val_accuracy did not improve from 0.80000\n",
            "\u001b[1m1/1\u001b[0m \u001b[32m━━━━━━━━━━━━━━━━━━━━\u001b[0m\u001b[37m\u001b[0m \u001b[1m1s\u001b[0m 796ms/step - accuracy: 0.6296 - loss: 0.6947 - val_accuracy: 0.4667 - val_loss: 0.6766\n",
            "Epoch 2/45\n",
            "\u001b[1m1/1\u001b[0m \u001b[32m━━━━━━━━━━━━━━━━━━━━\u001b[0m\u001b[37m\u001b[0m \u001b[1m0s\u001b[0m 272ms/step - accuracy: 0.7188 - loss: 0.6703\n",
            "Epoch 2: val_accuracy did not improve from 0.80000\n",
            "\u001b[1m1/1\u001b[0m \u001b[32m━━━━━━━━━━━━━━━━━━━━\u001b[0m\u001b[37m\u001b[0m \u001b[1m0s\u001b[0m 373ms/step - accuracy: 0.7188 - loss: 0.6703 - val_accuracy: 0.4667 - val_loss: 0.6774\n",
            "Epoch 3/45\n",
            "\u001b[1m1/1\u001b[0m \u001b[32m━━━━━━━━━━━━━━━━━━━━\u001b[0m\u001b[37m\u001b[0m \u001b[1m0s\u001b[0m 496ms/step - accuracy: 0.6562 - loss: 0.6630\n",
            "Epoch 3: val_accuracy did not improve from 0.80000\n",
            "\u001b[1m1/1\u001b[0m \u001b[32m━━━━━━━━━━━━━━━━━━━━\u001b[0m\u001b[37m\u001b[0m \u001b[1m1s\u001b[0m 626ms/step - accuracy: 0.6562 - loss: 0.6630 - val_accuracy: 0.4667 - val_loss: 0.6827\n",
            "Epoch 4/45\n",
            "\u001b[1m1/1\u001b[0m \u001b[32m━━━━━━━━━━━━━━━━━━━━\u001b[0m\u001b[37m\u001b[0m \u001b[1m0s\u001b[0m 312ms/step - accuracy: 0.4815 - loss: 0.6938\n",
            "Epoch 4: val_accuracy did not improve from 0.80000\n",
            "\u001b[1m1/1\u001b[0m \u001b[32m━━━━━━━━━━━━━━━━━━━━\u001b[0m\u001b[37m\u001b[0m \u001b[1m0s\u001b[0m 416ms/step - accuracy: 0.4815 - loss: 0.6938 - val_accuracy: 0.4667 - val_loss: 0.6813\n"
          ]
        },
        {
          "output_type": "stream",
          "name": "stderr",
          "text": [
            "WARNING:absl:You are saving your model as an HDF5 file via `model.save()` or `keras.saving.save_model(model)`. This file format is considered legacy. We recommend using instead the native Keras format, e.g. `model.save('my_model.keras')` or `keras.saving.save_model(model, 'my_model.keras')`. \n"
          ]
        },
        {
          "output_type": "display_data",
          "data": {
            "text/plain": [
              "<Figure size 1200x500 with 2 Axes>"
            ],
            "image/png": "[encoded data removed]"
          },
          "metadata": {}
        },
        {
          "output_type": "stream",
          "name": "stdout",
          "text": [
            "Avaliando o modelo...\n",
            "\u001b[1m1/1\u001b[0m \u001b[32m━━━━━━━━━━━━━━━━━━━━\u001b[0m\u001b[37m\u001b[0m \u001b[1m0s\u001b[0m 233ms/step - accuracy: 0.4667 - loss: 0.6766\n",
            "Perda: 0.6766\n",
            "Acurácia: 0.4667\n",
            "\u001b[1m1/1\u001b[0m \u001b[32m━━━━━━━━━━━━━━━━━━━━\u001b[0m\u001b[37m\u001b[0m \u001b[1m0s\u001b[0m 43ms/step\n"
          ]
        },
        {
          "output_type": "display_data",
          "data": {
            "text/plain": [
              "<Figure size 800x600 with 2 Axes>"
            ],
            "image/png": "[encoded data removed]"
          },
          "metadata": {}
        },
        {
          "output_type": "stream",
          "name": "stdout",
          "text": [
            "Relatório de Classificação:\n",
            "              precision    recall  f1-score   support\n",
            "\n",
            "       cobra       0.00      0.00      0.00         8\n",
            "        onca       0.47      1.00      0.64         7\n",
            "\n",
            "    accuracy                           0.47        15\n",
            "   macro avg       0.23      0.50      0.32        15\n",
            "weighted avg       0.22      0.47      0.30        15\n",
            "\n",
            "\n",
            "Como usar o modelo para fazer previsões em novas imagens:\n",
            "predict_image('/caminho/para/sua/imagem.jpg')\n",
            "Treinamento e avaliação concluídos!\n"
          ]
        },
        {
          "output_type": "stream",
          "name": "stderr",
          "text": [
            "/usr/local/lib/python3.11/dist-packages/sklearn/metrics/_classification.py:1565: UndefinedMetricWarning: Precision is ill-defined and being set to 0.0 in labels with no predicted samples. Use `zero_division` parameter to control this behavior.\n",
            "  _warn_prf(average, modifier, f\"{metric.capitalize()} is\", len(result))\n",
            "/usr/local/lib/python3.11/dist-packages/sklearn/metrics/_classification.py:1565: UndefinedMetricWarning: Precision is ill-defined and being set to 0.0 in labels with no predicted samples. Use `zero_division` parameter to control this behavior.\n",
            "  _warn_prf(average, modifier, f\"{metric.capitalize()} is\", len(result))\n",
            "/usr/local/lib/python3.11/dist-packages/sklearn/metrics/_classification.py:1565: UndefinedMetricWarning: Precision is ill-defined and being set to 0.0 in labels with no predicted samples. Use `zero_division` parameter to control this behavior.\n",
            "  _warn_prf(average, modifier, f\"{metric.capitalize()} is\", len(result))\n"
          ]
        }
      ]
    }
  ]
}